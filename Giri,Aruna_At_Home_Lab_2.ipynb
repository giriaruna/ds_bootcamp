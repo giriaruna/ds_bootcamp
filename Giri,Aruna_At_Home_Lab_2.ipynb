{
  "nbformat": 4,
  "nbformat_minor": 0,
  "metadata": {
    "colab": {
      "provenance": []
    },
    "kernelspec": {
      "name": "python3",
      "display_name": "Python 3"
    },
    "language_info": {
      "name": "python"
    }
  },
  "cells": [
    {
      "cell_type": "markdown",
      "source": [
        "Numpy Questions\n",
        "\n",
        "1. Define two custom numpy arrays, say A and B. Generate two new numpy\n",
        "arrays by stacking A and B vertically and horizontally.\n",
        "2. Find common elements between A and B. [Hint : Intersection of two sets]\n",
        "3. Extract all numbers from A which are within a specific range. eg\n",
        "between 5 and 10. [Hint: np.where() might be useful or boolean masks]\n",
        "4. Filter the rows of iris_2d that has petallength (3rd column) > 1.5\n",
        "and sepallength (1st column) < 5.0\n",
        "url = 'https://archive.ics.uci.edu/ml/machine-learning-databases/iris/iris.data'\n",
        "iris_2d = np.genfromtxt(url, delimiter=',', dtype='float', usecols=[0,1,2,3])\n",
        "\n",
        "Pandas Questions\n",
        "5. From df filter the 'Manufacturer', 'Model' and 'Type' for every\n",
        "20th row starting from 1st (row 0).\n",
        "```\n",
        "df = pd.read_csv('https://raw.githubusercontent.com/selva86/datasets/master/Cars93_miss.csv')\n",
        "```\n",
        "6. Replace missing values in Min.Price and Max.Price columns with\n",
        "their respective mean.\n",
        "```\n",
        "df = pd.read_csv('https://raw.githubusercontent.com/selva86/datasets/master/Cars93_miss.csv')\n",
        "```\n",
        "7. How to get the rows of a dataframe with row sum > 100?\n",
        "```\n",
        "df = pd.DataFrame(np.random.randint(10, 40, 60).reshape(-1, 4))"
      ],
      "metadata": {
        "id": "LX_A9nWqTbeq"
      }
    },
    {
      "cell_type": "code",
      "source": [
        "import numpy as np\n",
        "import pandas as pd"
      ],
      "metadata": {
        "id": "Iod5d4hSKm6u"
      },
      "execution_count": 6,
      "outputs": []
    },
    {
      "cell_type": "code",
      "execution_count": null,
      "metadata": {
        "id": "vQzib5udTXOD",
        "colab": {
          "base_uri": "https://localhost:8080/"
        },
        "outputId": "aa1a3b32-9c4a-4d53-8673-ae2a9d220658"
      },
      "outputs": [
        {
          "output_type": "stream",
          "name": "stdout",
          "text": [
            "[[1 2]\n",
            " [3 8]\n",
            " [3 4]\n",
            " [2 4]]\n",
            "[[1 2 3 4]\n",
            " [3 8 2 4]]\n"
          ]
        }
      ],
      "source": [
        "#1.\n",
        "a = np.array([[1,2],[3,8]])\n",
        "b = np.array([[3,4],[2,4]])\n",
        "\n",
        "print(np.vstack((a,b)))\n",
        "print(np.hstack((a,b)))\n"
      ]
    },
    {
      "cell_type": "code",
      "source": [
        "#2.\n",
        "print(np.intersect1d(a,b))"
      ],
      "metadata": {
        "id": "p8_tm4fXAb7k",
        "colab": {
          "base_uri": "https://localhost:8080/"
        },
        "outputId": "6bf395f5-69d8-4d0a-daf4-18c22097a3ef"
      },
      "execution_count": null,
      "outputs": [
        {
          "output_type": "stream",
          "name": "stdout",
          "text": [
            "[2 3]\n"
          ]
        }
      ]
    },
    {
      "cell_type": "code",
      "source": [
        "#3.\n",
        "#Extract all numbers from A which are within a specific range. eg between 5 and\n",
        "#10. [Hint: np.where() might be useful or boolean masks]\n",
        "\n",
        "i = np.where((a>=5) & (a<=10))\n",
        "print(a[i])"
      ],
      "metadata": {
        "colab": {
          "base_uri": "https://localhost:8080/"
        },
        "id": "Fh6c19ZTK1th",
        "outputId": "38d1131c-07e3-4d27-e04a-096a4c57648c"
      },
      "execution_count": null,
      "outputs": [
        {
          "output_type": "stream",
          "name": "stdout",
          "text": [
            "[8]\n"
          ]
        }
      ]
    },
    {
      "cell_type": "code",
      "source": [
        "#4.\n",
        "url = 'https://archive.ics.uci.edu/ml/machine-learning-databases/iris/iris.data'\n",
        "iris_2d = np.genfromtxt(url, delimiter=',', dtype='float', usecols=[0,1,2,3])\n",
        "filter_r = iris_2d[(iris_2d[:,2] > 1.5) & (iris_2d[:,0] < 5.0)]\n",
        "print(filter_r)\n"
      ],
      "metadata": {
        "id": "D1CTgNYeLp5C",
        "colab": {
          "base_uri": "https://localhost:8080/"
        },
        "outputId": "f2324527-e361-4965-ef8a-8e4df1445594"
      },
      "execution_count": 5,
      "outputs": [
        {
          "output_type": "stream",
          "name": "stdout",
          "text": [
            "[[4.8 3.4 1.6 0.2]\n",
            " [4.8 3.4 1.9 0.2]\n",
            " [4.7 3.2 1.6 0.2]\n",
            " [4.8 3.1 1.6 0.2]\n",
            " [4.9 2.4 3.3 1. ]\n",
            " [4.9 2.5 4.5 1.7]]\n"
          ]
        }
      ]
    },
    {
      "cell_type": "code",
      "source": [
        "#5.\n",
        "df = pd.read_csv('https://raw.githubusercontent.com/selva86/datasets/master/Cars93_miss.csv')\n",
        "filter_df = df[['Manufacturer', 'Model', 'Type']].iloc[::20]\n",
        "print(filter_df)"
      ],
      "metadata": {
        "colab": {
          "base_uri": "https://localhost:8080/"
        },
        "id": "deMUTKWf1edA",
        "outputId": "8a597f57-a30d-4bd1-a405-7b9dc1a7a8bf"
      },
      "execution_count": 9,
      "outputs": [
        {
          "output_type": "stream",
          "name": "stdout",
          "text": [
            "   Manufacturer    Model     Type\n",
            "0         Acura  Integra    Small\n",
            "20     Chrysler  LeBaron  Compact\n",
            "40        Honda  Prelude   Sporty\n",
            "60      Mercury   Cougar  Midsize\n",
            "80       Subaru   Loyale    Small\n"
          ]
        }
      ]
    },
    {
      "cell_type": "code",
      "source": [
        "#6.\n",
        "df = pd.read_csv('https://raw.githubusercontent.com/selva86/datasets/master/Cars93_miss.csv')\n",
        "#print(df.head())\n",
        "\n",
        "mean_min = df['Min.Price'].mean()\n",
        "mean_max = df['Max.Price'].mean()\n",
        "\n",
        "df['Min.Price'].fillna(mean_min)\n",
        "df['Max.Price'].fillna(mean_max)\n",
        "\n",
        "miss = df[['Min.Price', 'Max.Price']].isnull().sum()\n",
        "print(miss)\n"
      ],
      "metadata": {
        "colab": {
          "base_uri": "https://localhost:8080/"
        },
        "id": "c86eJfX311dh",
        "outputId": "09cecd81-574c-49e8-8459-27532404adb8"
      },
      "execution_count": 20,
      "outputs": [
        {
          "output_type": "stream",
          "name": "stdout",
          "text": [
            "Min.Price    7\n",
            "Max.Price    5\n",
            "dtype: int64\n"
          ]
        }
      ]
    },
    {
      "cell_type": "code",
      "source": [
        "#7.\n",
        "df = pd.DataFrame(np.random.randint(10, 40, 60).reshape(-1, 4))\n",
        "\n",
        "filter_row = df[df.sum(axis=1) > 100]\n",
        "#print(df)\n",
        "print(filter_row)\n"
      ],
      "metadata": {
        "colab": {
          "base_uri": "https://localhost:8080/"
        },
        "id": "w-fob4dm2HEU",
        "outputId": "7a867fea-4481-45b6-ab5c-77ac34f83419"
      },
      "execution_count": 21,
      "outputs": [
        {
          "output_type": "stream",
          "name": "stdout",
          "text": [
            "     0   1   2   3\n",
            "1   37  26  21  36\n",
            "2   34  12  22  35\n",
            "3   23  30  19  37\n",
            "7   18  20  37  28\n",
            "9   30  10  38  25\n",
            "10  26  32  12  33\n",
            "13  37  29  24  36\n"
          ]
        }
      ]
    }
  ]
}