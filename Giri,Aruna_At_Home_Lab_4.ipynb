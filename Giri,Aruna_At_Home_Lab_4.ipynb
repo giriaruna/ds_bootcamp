{
  "nbformat": 4,
  "nbformat_minor": 0,
  "metadata": {
    "colab": {
      "provenance": []
    },
    "kernelspec": {
      "name": "python3",
      "display_name": "Python 3"
    },
    "language_info": {
      "name": "python"
    }
  },
  "cells": [
    {
      "cell_type": "code",
      "execution_count": 1,
      "metadata": {
        "colab": {
          "base_uri": "https://localhost:8080/"
        },
        "id": "ly_ZVxEts9N8",
        "outputId": "92896d1f-5c36-4d19-e69e-8e3ff84497ef"
      },
      "outputs": [
        {
          "output_type": "stream",
          "name": "stdout",
          "text": [
            "Collecting pandasql\n",
            "  Downloading pandasql-0.7.3.tar.gz (26 kB)\n",
            "  Preparing metadata (setup.py) ... \u001b[?25l\u001b[?25hdone\n",
            "Requirement already satisfied: numpy in /usr/local/lib/python3.10/dist-packages (from pandasql) (1.26.4)\n",
            "Requirement already satisfied: pandas in /usr/local/lib/python3.10/dist-packages (from pandasql) (2.2.2)\n",
            "Requirement already satisfied: sqlalchemy in /usr/local/lib/python3.10/dist-packages (from pandasql) (2.0.36)\n",
            "Requirement already satisfied: python-dateutil>=2.8.2 in /usr/local/lib/python3.10/dist-packages (from pandas->pandasql) (2.8.2)\n",
            "Requirement already satisfied: pytz>=2020.1 in /usr/local/lib/python3.10/dist-packages (from pandas->pandasql) (2024.2)\n",
            "Requirement already satisfied: tzdata>=2022.7 in /usr/local/lib/python3.10/dist-packages (from pandas->pandasql) (2024.2)\n",
            "Requirement already satisfied: typing-extensions>=4.6.0 in /usr/local/lib/python3.10/dist-packages (from sqlalchemy->pandasql) (4.12.2)\n",
            "Requirement already satisfied: greenlet!=0.4.17 in /usr/local/lib/python3.10/dist-packages (from sqlalchemy->pandasql) (3.1.1)\n",
            "Requirement already satisfied: six>=1.5 in /usr/local/lib/python3.10/dist-packages (from python-dateutil>=2.8.2->pandas->pandasql) (1.16.0)\n",
            "Building wheels for collected packages: pandasql\n",
            "  Building wheel for pandasql (setup.py) ... \u001b[?25l\u001b[?25hdone\n",
            "  Created wheel for pandasql: filename=pandasql-0.7.3-py3-none-any.whl size=26772 sha256=e8ac13713951b3ba79c59469c32c11ef45d1b3639c53d6627f35c89c8a92f90a\n",
            "  Stored in directory: /root/.cache/pip/wheels/e9/bc/3a/8434bdcccf5779e72894a9b24fecbdcaf97940607eaf4bcdf9\n",
            "Successfully built pandasql\n",
            "Installing collected packages: pandasql\n",
            "Successfully installed pandasql-0.7.3\n"
          ]
        }
      ],
      "source": [
        "!pip install pandasql"
      ]
    },
    {
      "cell_type": "code",
      "source": [
        "import sqlite3\n",
        "import pandas as pd\n",
        "import os\n",
        "import pandasql\n",
        "import random\n",
        "from datetime import datetime, timedelta"
      ],
      "metadata": {
        "id": "rz8xRO-ouX6t"
      },
      "execution_count": 8,
      "outputs": []
    },
    {
      "cell_type": "code",
      "source": [
        "# Helper function to generate random dates\n",
        "def random_date(start, end):\n",
        "    delta = end - start\n",
        "    return start + timedelta(days=random.randint(0, delta.days))\n",
        "\n",
        "# Date range for sales records\n",
        "date_start = datetime(2022, 1, 1)\n",
        "date_end = datetime(2023, 3, 31)\n",
        "\n",
        "# Sample CUSTOMERS data\n",
        "customers_data = {\n",
        "    \"customer_id\": [f\"CUST{i:03d}\" for i in range(1, 21)],\n",
        "    \"first_name\": [\"John\" if i % 4 == 0 else \"Jane\" for i in range(20)],  # Adding 'John' every 4 customers\n",
        "    \"last_name\": [\"Doe\" if i % 4 == 0 else \"Smith\" for i in range(20)],   # Adding 'Doe' every 4 customers\n",
        "    \"address\": [f\"{random.randint(1, 100)} Main St, City {i}\" for i in range(20)]\n",
        "}\n",
        "customers_df = pd.DataFrame(customers_data)\n",
        "print(\"CUSTOMERS Dataset:\")\n",
        "print(customers_df)\n",
        "\n",
        "# Sample ITEMS data\n",
        "items_data = {\n",
        "    \"item_id\": [f\"ITEM{i:03d}\" for i in range(1, 11)],\n",
        "    \"item_name\": [f\"Item {i}\" for i in range(1, 11)],\n",
        "    \"price\": [round(random.uniform(5, 100), 2) for _ in range(10)],\n",
        "    \"department\": [random.choice([\"Electronics\", \"Clothing\", \"Home\", \"Toys\", \"Books\"]) for _ in range(10)]\n",
        "}\n",
        "items_df = pd.DataFrame(items_data)\n",
        "print(\"\\nITEMS Dataset:\")\n",
        "print(items_df)\n",
        "\n",
        "# Sample SALES data\n",
        "sales_data = {\n",
        "    \"date\": [random_date(date_start, date_end).strftime(\"%Y-%m-%d\") for _ in range(50)],\n",
        "    \"order_id\": [f\"ORD{i:03d}\" for i in range(1, 51)],\n",
        "    \"item_id\": [random.choice(items_df[\"item_id\"]) for _ in range(50)],\n",
        "    \"customer_id\": [random.choice(customers_df[\"customer_id\"]) for _ in range(50)],\n",
        "    \"quantity\": [random.randint(1, 5) for _ in range(50)]\n",
        "}\n",
        "\n",
        "# Calculate revenue for each sale\n",
        "sales_data[\"revenue\"] = [\n",
        "    round(sales_data[\"quantity\"][i] * items_df[items_df[\"item_id\"] == sales_data[\"item_id\"][i]][\"price\"].values[0], 2)\n",
        "    for i in range(50)\n",
        "]\n",
        "sales_df = pd.DataFrame(sales_data)\n",
        "print(\"\\nSALES Dataset:\")\n",
        "print(sales_df)\n"
      ],
      "metadata": {
        "colab": {
          "base_uri": "https://localhost:8080/"
        },
        "id": "95DGFZ-zxIu9",
        "outputId": "84ce4974-0e59-481f-8810-57d457e7b9b2"
      },
      "execution_count": 9,
      "outputs": [
        {
          "output_type": "stream",
          "name": "stdout",
          "text": [
            "CUSTOMERS Dataset:\n",
            "   customer_id first_name last_name              address\n",
            "0      CUST001       John       Doe    1 Main St, City 0\n",
            "1      CUST002       Jane     Smith   88 Main St, City 1\n",
            "2      CUST003       Jane     Smith   80 Main St, City 2\n",
            "3      CUST004       Jane     Smith   32 Main St, City 3\n",
            "4      CUST005       John       Doe   81 Main St, City 4\n",
            "5      CUST006       Jane     Smith    8 Main St, City 5\n",
            "6      CUST007       Jane     Smith   64 Main St, City 6\n",
            "7      CUST008       Jane     Smith   98 Main St, City 7\n",
            "8      CUST009       John       Doe   52 Main St, City 8\n",
            "9      CUST010       Jane     Smith   96 Main St, City 9\n",
            "10     CUST011       Jane     Smith  27 Main St, City 10\n",
            "11     CUST012       Jane     Smith  80 Main St, City 11\n",
            "12     CUST013       John       Doe  69 Main St, City 12\n",
            "13     CUST014       Jane     Smith  44 Main St, City 13\n",
            "14     CUST015       Jane     Smith  90 Main St, City 14\n",
            "15     CUST016       Jane     Smith  92 Main St, City 15\n",
            "16     CUST017       John       Doe  70 Main St, City 16\n",
            "17     CUST018       Jane     Smith  94 Main St, City 17\n",
            "18     CUST019       Jane     Smith  21 Main St, City 18\n",
            "19     CUST020       Jane     Smith   4 Main St, City 19\n",
            "\n",
            "ITEMS Dataset:\n",
            "   item_id item_name  price   department\n",
            "0  ITEM001    Item 1  73.42         Toys\n",
            "1  ITEM002    Item 2  19.03        Books\n",
            "2  ITEM003    Item 3  55.85         Toys\n",
            "3  ITEM004    Item 4   9.10        Books\n",
            "4  ITEM005    Item 5  68.85  Electronics\n",
            "5  ITEM006    Item 6  53.12         Home\n",
            "6  ITEM007    Item 7  50.22         Toys\n",
            "7  ITEM008    Item 8  72.75         Home\n",
            "8  ITEM009    Item 9  71.88  Electronics\n",
            "9  ITEM010   Item 10  68.22        Books\n",
            "\n",
            "SALES Dataset:\n",
            "          date order_id  item_id customer_id  quantity  revenue\n",
            "0   2022-01-12   ORD001  ITEM002     CUST008         2    38.06\n",
            "1   2022-01-20   ORD002  ITEM007     CUST001         2   100.44\n",
            "2   2023-01-27   ORD003  ITEM004     CUST004         3    27.30\n",
            "3   2023-02-06   ORD004  ITEM006     CUST015         2   106.24\n",
            "4   2022-01-06   ORD005  ITEM003     CUST004         5   279.25\n",
            "5   2022-10-12   ORD006  ITEM002     CUST010         2    38.06\n",
            "6   2023-02-19   ORD007  ITEM007     CUST001         1    50.22\n",
            "7   2022-01-19   ORD008  ITEM004     CUST001         1     9.10\n",
            "8   2022-01-29   ORD009  ITEM007     CUST011         5   251.10\n",
            "9   2023-01-30   ORD010  ITEM001     CUST019         3   220.26\n",
            "10  2022-04-06   ORD011  ITEM007     CUST004         4   200.88\n",
            "11  2022-07-18   ORD012  ITEM008     CUST002         3   218.25\n",
            "12  2022-03-24   ORD013  ITEM010     CUST020         2   136.44\n",
            "13  2022-12-12   ORD014  ITEM006     CUST019         1    53.12\n",
            "14  2022-11-04   ORD015  ITEM007     CUST006         5   251.10\n",
            "15  2023-03-26   ORD016  ITEM005     CUST002         2   137.70\n",
            "16  2023-01-03   ORD017  ITEM005     CUST008         2   137.70\n",
            "17  2022-01-21   ORD018  ITEM004     CUST010         2    18.20\n",
            "18  2023-02-09   ORD019  ITEM008     CUST003         3   218.25\n",
            "19  2022-10-08   ORD020  ITEM002     CUST020         5    95.15\n",
            "20  2022-03-01   ORD021  ITEM006     CUST001         5   265.60\n",
            "21  2023-02-04   ORD022  ITEM003     CUST009         4   223.40\n",
            "22  2022-09-28   ORD023  ITEM008     CUST005         1    72.75\n",
            "23  2022-08-03   ORD024  ITEM001     CUST011         2   146.84\n",
            "24  2023-03-16   ORD025  ITEM004     CUST011         2    18.20\n",
            "25  2022-03-08   ORD026  ITEM010     CUST016         1    68.22\n",
            "26  2022-10-19   ORD027  ITEM010     CUST006         3   204.66\n",
            "27  2022-01-03   ORD028  ITEM005     CUST019         2   137.70\n",
            "28  2022-12-29   ORD029  ITEM010     CUST012         4   272.88\n",
            "29  2022-05-05   ORD030  ITEM007     CUST006         5   251.10\n",
            "30  2022-03-19   ORD031  ITEM001     CUST009         1    73.42\n",
            "31  2022-02-16   ORD032  ITEM009     CUST017         3   215.64\n",
            "32  2023-02-04   ORD033  ITEM001     CUST014         4   293.68\n",
            "33  2022-05-27   ORD034  ITEM007     CUST007         2   100.44\n",
            "34  2022-01-02   ORD035  ITEM004     CUST020         4    36.40\n",
            "35  2022-09-06   ORD036  ITEM004     CUST020         3    27.30\n",
            "36  2022-05-03   ORD037  ITEM009     CUST001         5   359.40\n",
            "37  2022-02-08   ORD038  ITEM002     CUST009         2    38.06\n",
            "38  2022-03-20   ORD039  ITEM009     CUST019         3   215.64\n",
            "39  2022-11-04   ORD040  ITEM008     CUST001         2   145.50\n",
            "40  2022-10-15   ORD041  ITEM010     CUST018         3   204.66\n",
            "41  2023-01-17   ORD042  ITEM002     CUST007         4    76.12\n",
            "42  2022-09-08   ORD043  ITEM005     CUST017         3   206.55\n",
            "43  2022-08-22   ORD044  ITEM009     CUST004         3   215.64\n",
            "44  2022-10-18   ORD045  ITEM004     CUST020         1     9.10\n",
            "45  2022-03-10   ORD046  ITEM010     CUST004         5   341.10\n",
            "46  2022-09-06   ORD047  ITEM001     CUST014         1    73.42\n",
            "47  2022-09-14   ORD048  ITEM003     CUST003         3   167.55\n",
            "48  2022-07-15   ORD049  ITEM004     CUST019         5    45.50\n",
            "49  2022-06-03   ORD050  ITEM007     CUST020         5   251.10\n"
          ]
        }
      ]
    },
    {
      "cell_type": "code",
      "source": [
        "# Create an SQLite database in memory\n",
        "conn = sqlite3.connect(\":memory:\")\n",
        "\n",
        "# Load DataFrames into the SQLite database\n",
        "customers_df.to_sql(\"CUSTOMERS\", conn, index=False, if_exists=\"replace\")\n",
        "items_df.to_sql(\"ITEMS\", conn, index=False, if_exists=\"replace\")\n",
        "sales_df.to_sql(\"SALES\", conn, index=False, if_exists=\"replace\")\n"
      ],
      "metadata": {
        "colab": {
          "base_uri": "https://localhost:8080/"
        },
        "id": "hTTsNkznyALe",
        "outputId": "6a2e5d64-d03c-4dcf-eb8a-172859ed5e52"
      },
      "execution_count": 20,
      "outputs": [
        {
          "output_type": "execute_result",
          "data": {
            "text/plain": [
              "50"
            ]
          },
          "metadata": {},
          "execution_count": 20
        }
      ]
    },
    {
      "cell_type": "markdown",
      "source": [
        "Pull total number of orders that were completed on 18th March 2023 with the first name ‘John’ and last name Doe’\n"
      ],
      "metadata": {
        "id": "sYGQ_2cwx9qJ"
      }
    },
    {
      "cell_type": "code",
      "source": [
        "# Define and execute the query\n",
        "query1 = \"\"\"\n",
        "SELECT COUNT(*) AS total_orders_john_doe\n",
        "FROM SALES S\n",
        "JOIN CUSTOMERS C ON S.customer_id = C.customer_id\n",
        "WHERE S.date = '2023-03-18'\n",
        "  AND C.first_name = 'John'\n",
        "  AND C.last_name = 'Doe';\n",
        "\"\"\"\n",
        "result1 = pd.read_sql(query1, conn)\n",
        "print(\"Total orders by John Doe on 18th March 2023:\", result1['total_orders_john_doe'][0])\n"
      ],
      "metadata": {
        "colab": {
          "base_uri": "https://localhost:8080/"
        },
        "id": "MkEkiRggyGiY",
        "outputId": "25edfebe-fa68-4165-a18a-91cc46672232"
      },
      "execution_count": 17,
      "outputs": [
        {
          "output_type": "stream",
          "name": "stdout",
          "text": [
            "Total orders by John Doe on 18th March 2023: 0\n"
          ]
        }
      ]
    },
    {
      "cell_type": "markdown",
      "source": [
        "Pull total number of customers that purchased in January 2023 and the average amount spend per customer"
      ],
      "metadata": {
        "id": "JMKKj9RXyN5v"
      }
    },
    {
      "cell_type": "code",
      "source": [
        "print(sales_df.head())\n",
        "print(sales_df.columns)\n"
      ],
      "metadata": {
        "colab": {
          "base_uri": "https://localhost:8080/"
        },
        "id": "rzdSlqf6ymtN",
        "outputId": "fa0e1502-d793-471e-d319-96261c660d1b"
      },
      "execution_count": 33,
      "outputs": [
        {
          "output_type": "stream",
          "name": "stdout",
          "text": [
            "         date order_id  item_id customer_id  quantity  revenue\n",
            "0  2022-01-12   ORD001  ITEM002     CUST008         2    38.06\n",
            "1  2022-01-20   ORD002  ITEM007     CUST001         2   100.44\n",
            "2  2023-01-27   ORD003  ITEM004     CUST004         3    27.30\n",
            "3  2023-02-06   ORD004  ITEM006     CUST015         2   106.24\n",
            "4  2022-01-06   ORD005  ITEM003     CUST004         5   279.25\n",
            "Index(['date', 'order_id', 'item_id', 'customer_id', 'quantity', 'revenue'], dtype='object')\n"
          ]
        }
      ]
    },
    {
      "cell_type": "code",
      "source": [
        "# Query for total customers in January 2023 and average spend per customer\n",
        "query2 = \"\"\"\n",
        "SELECT COUNT(DISTINCT customer_id) AS total_customers,\n",
        "       AVG(total_spend) AS average_spend\n",
        "FROM (\n",
        "    SELECT customer_id, SUM(revenue) AS total_spend\n",
        "    FROM SALES\n",
        "    WHERE date BETWEEN '2023-01-01' AND '2023-01-31'\n",
        "    GROUP BY customer_id\n",
        ") AS customer_spend;\n",
        "\"\"\"\n",
        "\n",
        "# Run the query and display the result\n",
        "result = pd.read_sql(query2, conn)\n",
        "print(\"Total customers in January 2023:\", result['total_customers'][0])\n",
        "print(\"Average amount spent per customer in January 2023:\", result['average_spend'][0])\n"
      ],
      "metadata": {
        "colab": {
          "base_uri": "https://localhost:8080/"
        },
        "id": "eJ3T7NxJyPhG",
        "outputId": "17fe35bb-e29b-42e2-f802-4322f853f669"
      },
      "execution_count": 23,
      "outputs": [
        {
          "output_type": "stream",
          "name": "stdout",
          "text": [
            "Total customers in January 2023: 4\n",
            "Average amount spent per customer in January 2023: 115.345\n"
          ]
        }
      ]
    },
    {
      "cell_type": "markdown",
      "source": [
        "Pull the departments that generated less than $600 in 2022\n"
      ],
      "metadata": {
        "id": "4-DjhOPiy209"
      }
    },
    {
      "cell_type": "code",
      "source": [
        "query3 = \"\"\"\n",
        "SELECT I.department, SUM(S.revenue) AS total_revenue\n",
        "FROM SALES S\n",
        "JOIN ITEMS I ON S.item_id = I.item_id\n",
        "WHERE strftime('%Y', S.date) = '2022'\n",
        "GROUP BY I.department\n",
        "HAVING total_revenue < 600;\n",
        "\n",
        "\"\"\"\n",
        "\n",
        "result = pd.read_sql(query3, conn)\n",
        "print(\"Departments generating less than $600 in 2022:\")\n",
        "print(result)\n"
      ],
      "metadata": {
        "colab": {
          "base_uri": "https://localhost:8080/"
        },
        "id": "gmZ-N9kxy7RT",
        "outputId": "a804f235-64cd-4643-a89c-d164c5d8bcba"
      },
      "execution_count": 27,
      "outputs": [
        {
          "output_type": "stream",
          "name": "stdout",
          "text": [
            "Departments generating less than $600 in 2022:\n",
            "Empty DataFrame\n",
            "Columns: [department, total_revenue]\n",
            "Index: []\n"
          ]
        }
      ]
    },
    {
      "cell_type": "markdown",
      "source": [
        "What is the most and least revenue we have generated by an order\n"
      ],
      "metadata": {
        "id": "WY3tb5DczMxp"
      }
    },
    {
      "cell_type": "code",
      "source": [
        "max_revenue_query = \"SELECT MAX(revenue) AS max_revenue FROM SALES;\"\n",
        "min_revenue_query = \"SELECT MIN(revenue) AS min_revenue FROM SALES;\"\n",
        "\n",
        "max_revenue_result = pd.read_sql(max_revenue_query, conn)\n",
        "print(\"Maximum revenue generated by a single order:\", max_revenue_result['max_revenue'][0])\n",
        "\n",
        "min_revenue_result = pd.read_sql(min_revenue_query, conn)\n",
        "print(\"Minimum revenue generated by a single order:\", min_revenue_result['min_revenue'][0])\n"
      ],
      "metadata": {
        "colab": {
          "base_uri": "https://localhost:8080/"
        },
        "id": "QTlB9jb3zMeQ",
        "outputId": "9aa7aa67-1045-4545-80e3-6658c30aa817"
      },
      "execution_count": 28,
      "outputs": [
        {
          "output_type": "stream",
          "name": "stdout",
          "text": [
            "Maximum revenue generated by a single order: 359.4\n",
            "Minimum revenue generated by a single order: 9.1\n"
          ]
        }
      ]
    },
    {
      "cell_type": "markdown",
      "source": [
        "What were the orders that were purchased in our most lucrative order\n"
      ],
      "metadata": {
        "id": "qX7tM_4uzg-B"
      }
    },
    {
      "cell_type": "code",
      "source": [
        "max_revenue_order_query = \"\"\"\n",
        "SELECT order_id, SUM(revenue) AS total_revenue\n",
        "FROM SALES\n",
        "GROUP BY order_id\n",
        "ORDER BY total_revenue DESC\n",
        "LIMIT 1;\n",
        "\"\"\"\n",
        "\n",
        "most_lucrative_order_result = pd.read_sql(max_revenue_order_query, conn)\n",
        "\n",
        "if not most_lucrative_order_result.empty:\n",
        "    most_lucrative_order_id = most_lucrative_order_result['order_id'][0]\n",
        "    print(\"Most lucrative order ID:\", most_lucrative_order_id)\n",
        "    print(\"Total revenue of the most lucrative order:\", most_lucrative_order_result['total_revenue'][0])\n",
        "\n",
        "    # Step 4: Fetch details of the most lucrative order\n",
        "    order_details_query = f\"SELECT * FROM SALES WHERE order_id = '{most_lucrative_order_id}';\"\n",
        "    order_details_result = pd.read_sql(order_details_query, conn)\n",
        "\n",
        "    print(\"Details of the most lucrative order:\")\n",
        "    print(order_details_result)\n",
        "else:\n",
        "    print(\"No orders found.\")\n"
      ],
      "metadata": {
        "colab": {
          "base_uri": "https://localhost:8080/"
        },
        "id": "Sv6-VuJuziK6",
        "outputId": "4d2dac44-abdf-4a88-a7e5-e5922a5abd6b"
      },
      "execution_count": 38,
      "outputs": [
        {
          "output_type": "stream",
          "name": "stdout",
          "text": [
            "Most lucrative order ID: ORD037\n",
            "Total revenue of the most lucrative order: 359.4\n",
            "Details of the most lucrative order:\n",
            "         date order_id  item_id customer_id  quantity  revenue\n",
            "0  2022-05-03   ORD037  ITEM009     CUST001         5    359.4\n"
          ]
        }
      ]
    }
  ]
}